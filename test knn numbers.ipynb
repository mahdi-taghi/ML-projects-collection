{
 "cells": [
  {
   "cell_type": "code",
   "execution_count": 22,
   "id": "9b1643c9",
   "metadata": {},
   "outputs": [],
   "source": [
    "import numpy as np\n",
    "from sklearn.neighbors import KNeighborsClassifier\n",
    "from sklearn.model_selection import train_test_split\n",
    "from sklearn.metrics import accuracy_score"
   ]
  },
  {
   "cell_type": "code",
   "execution_count": 2,
   "id": "176d5749",
   "metadata": {},
   "outputs": [
    {
     "name": "stdout",
     "output_type": "stream",
     "text": [
      "[[-2.52  2.21]\n",
      " [-2.21  0.53]\n",
      " [-4.62  3.27]\n",
      " [-2.07  1.67]\n",
      " [-0.64 -0.3 ]\n",
      " [-1.4  -1.12]\n",
      " [-0.88  1.2 ]\n",
      " [-1.1   0.59]\n",
      " [-1.53  0.83]\n",
      " [-1.01 -0.35]\n",
      " [-1.5   1.54]\n",
      " [-1.25  1.72]\n",
      " [-0.57  1.17]\n",
      " [-1.27  1.87]\n",
      " [-1.53 -0.17]\n",
      " [-2.34  1.56]\n",
      " [-0.44  0.28]\n",
      " [-0.38  1.44]\n",
      " [-0.36  1.34]\n",
      " [-2.91  2.53]\n",
      " [-1.58  0.99]\n",
      " [-1.97  1.37]\n",
      " [-1.5   1.57]\n",
      " [-2.    0.54]\n",
      " [-1.28  2.74]\n",
      " [-1.35  0.77]\n",
      " [-0.72  1.86]\n",
      " [-1.73  2.11]\n",
      " [-2.22  1.86]\n",
      " [-1.57  2.02]\n",
      " [-1.79  0.78]\n",
      " [-1.46  2.8 ]\n",
      " [-2.7   2.3 ]\n",
      " [-1.   -0.6 ]\n",
      " [-0.07  0.71]\n",
      " [ 0.73  1.24]\n",
      " [-1.87  2.21]\n",
      " [-3.11  0.52]\n",
      " [-1.11  1.11]\n",
      " [-1.13  1.82]\n",
      " [-3.57  3.07]\n",
      " [-2.24  0.54]\n",
      " [-2.41  0.74]\n",
      " [-0.94  1.55]\n",
      " [-2.33  2.9 ]\n",
      " [-1.    1.53]\n",
      " [-0.53  1.12]\n",
      " [-1.71  1.15]\n",
      " [-2.35  0.72]\n",
      " [ 0.16  0.78]\n",
      " [-0.11  1.46]\n",
      " [ 0.25  1.33]\n",
      " [-2.13  2.69]\n",
      " [-3.46  1.81]\n",
      " [-1.68  1.09]\n",
      " [-0.21  1.26]\n",
      " [-1.58  1.2 ]\n",
      " [-3.11  1.87]\n",
      " [ 0.25 -0.5 ]\n",
      " [-2.05  1.63]\n",
      " [-1.29  1.23]\n",
      " [-2.6  -0.98]\n",
      " [-2.64  2.38]\n",
      " [-1.69  1.52]\n",
      " [-1.87  2.46]\n",
      " [-3.1   1.23]\n",
      " [-1.5   4.62]\n",
      " [-1.98  0.16]\n",
      " [-1.11  0.95]\n",
      " [-1.64  0.87]\n",
      " [-2.44  0.11]\n",
      " [-1.   -1.7 ]\n",
      " [ 0.81  0.47]\n",
      " [-1.96  1.21]\n",
      " [-3.11  1.3 ]\n",
      " [-0.33  2.21]\n",
      " [-1.24  0.96]\n",
      " [-1.6   2.12]\n",
      " [-1.38 -0.41]\n",
      " [-1.97  2.47]\n",
      " [-1.63  0.15]\n",
      " [-1.82  1.51]\n",
      " [-2.77  0.81]\n",
      " [-1.57  1.64]\n",
      " [-1.37  0.26]\n",
      " [-0.82  1.73]\n",
      " [-1.98  0.8 ]\n",
      " [-2.    0.04]\n",
      " [-1.11  3.17]\n",
      " [-2.26  3.03]]\n"
     ]
    }
   ],
   "source": [
    "samples = np.random.normal(loc=[-1.6, 1.24], scale=1.0, size=(90, 2))\n",
    "rounded_samples=np.round(samples,2)\n",
    "print(rounded_samples)"
   ]
  },
  {
   "cell_type": "code",
   "execution_count": 3,
   "id": "e16cfa32",
   "metadata": {},
   "outputs": [
    {
     "name": "stdout",
     "output_type": "stream",
     "text": [
      "[[-1.6   1.35]\n",
      " [-1.2   1.2 ]\n",
      " [-2.52  2.21]\n",
      " [-2.21  0.53]\n",
      " [-4.62  3.27]\n",
      " [-2.07  1.67]\n",
      " [-0.64 -0.3 ]\n",
      " [-1.4  -1.12]\n",
      " [-0.88  1.2 ]\n",
      " [-1.1   0.59]\n",
      " [-1.53  0.83]\n",
      " [-1.01 -0.35]\n",
      " [-1.5   1.54]\n",
      " [-1.25  1.72]\n",
      " [-0.57  1.17]\n",
      " [-1.27  1.87]\n",
      " [-1.53 -0.17]\n",
      " [-2.34  1.56]\n",
      " [-0.44  0.28]\n",
      " [-0.38  1.44]\n",
      " [-0.36  1.34]\n",
      " [-2.91  2.53]\n",
      " [-1.58  0.99]\n",
      " [-1.97  1.37]\n",
      " [-1.5   1.57]\n",
      " [-2.    0.54]\n",
      " [-1.28  2.74]\n",
      " [-1.35  0.77]\n",
      " [-0.72  1.86]\n",
      " [-1.73  2.11]\n",
      " [-2.22  1.86]\n",
      " [-1.57  2.02]\n",
      " [-1.79  0.78]\n",
      " [-1.46  2.8 ]\n",
      " [-2.7   2.3 ]\n",
      " [-1.   -0.6 ]\n",
      " [-0.07  0.71]\n",
      " [ 0.73  1.24]\n",
      " [-1.87  2.21]\n",
      " [-3.11  0.52]\n",
      " [-1.11  1.11]\n",
      " [-1.13  1.82]\n",
      " [-3.57  3.07]\n",
      " [-2.24  0.54]\n",
      " [-2.41  0.74]\n",
      " [-0.94  1.55]\n",
      " [-2.33  2.9 ]\n",
      " [-1.    1.53]\n",
      " [-0.53  1.12]\n",
      " [-1.71  1.15]\n",
      " [-2.35  0.72]\n",
      " [ 0.16  0.78]\n",
      " [-0.11  1.46]\n",
      " [ 0.25  1.33]\n",
      " [-2.13  2.69]\n",
      " [-3.46  1.81]\n",
      " [-1.68  1.09]\n",
      " [-0.21  1.26]\n",
      " [-1.58  1.2 ]\n",
      " [-3.11  1.87]\n",
      " [ 0.25 -0.5 ]\n",
      " [-2.05  1.63]\n",
      " [-1.29  1.23]\n",
      " [-2.6  -0.98]\n",
      " [-2.64  2.38]\n",
      " [-1.69  1.52]\n",
      " [-1.87  2.46]\n",
      " [-3.1   1.23]\n",
      " [-1.5   4.62]\n",
      " [-1.98  0.16]\n",
      " [-1.11  0.95]\n",
      " [-1.64  0.87]\n",
      " [-2.44  0.11]\n",
      " [-1.   -1.7 ]\n",
      " [ 0.81  0.47]\n",
      " [-1.96  1.21]\n",
      " [-3.11  1.3 ]\n",
      " [-0.33  2.21]\n",
      " [-1.24  0.96]\n",
      " [-1.6   2.12]\n",
      " [-1.38 -0.41]\n",
      " [-1.97  2.47]\n",
      " [-1.63  0.15]\n",
      " [-1.82  1.51]\n",
      " [-2.77  0.81]\n",
      " [-1.57  1.64]\n",
      " [-1.37  0.26]\n",
      " [-0.82  1.73]\n",
      " [-1.98  0.8 ]\n",
      " [-2.    0.04]\n",
      " [-1.11  3.17]\n",
      " [-2.26  3.03]]\n"
     ]
    }
   ],
   "source": [
    "sample1=[[-1.6,1.35]]\n",
    "sample2=[[-1.2,1.2]]\n",
    "final_sample=np.vstack([sample1,sample2,rounded_samples])\n",
    "print(final_sample)"
   ]
  },
  {
   "cell_type": "code",
   "execution_count": 29,
   "id": "6c3a7d54",
   "metadata": {},
   "outputs": [
    {
     "name": "stdout",
     "output_type": "stream",
     "text": [
      "Accuracy: 0.5263157894736842\n"
     ]
    }
   ],
   "source": [
    "#knn=11\n",
    "labels = np.random.choice([0, 1], size=(92,))\n",
    "X_train, X_test, y_train, y_test = train_test_split(final_sample, labels, test_size=0.2, random_state=42)\n",
    "knn = KNeighborsClassifier(n_neighbors=11)\n",
    "knn.fit(X_train, y_train)\n",
    "y_pred = knn.predict(X_test)\n",
    "accuracy = accuracy_score(y_test, y_pred)\n",
    "print(\"Accuracy:\", accuracy)"
   ]
  },
  {
   "cell_type": "code",
   "execution_count": 30,
   "id": "7b203fa0",
   "metadata": {},
   "outputs": [
    {
     "name": "stdout",
     "output_type": "stream",
     "text": [
      "Accuracy: 0.631578947368421\n"
     ]
    }
   ],
   "source": [
    "#knn=5\n",
    "labels = np.random.choice([0, 1], size=(92,))\n",
    "X_train, X_test, y_train, y_test = train_test_split(final_sample, labels, test_size=0.2, random_state=42)\n",
    "knn = KNeighborsClassifier(n_neighbors=5)\n",
    "knn.fit(X_train, y_train)\n",
    "y_pred = knn.predict(X_test)\n",
    "accuracy = accuracy_score(y_test, y_pred)\n",
    "print(\"Accuracy:\", accuracy)"
   ]
  },
  {
   "cell_type": "code",
   "execution_count": 31,
   "id": "74aeeebb",
   "metadata": {},
   "outputs": [
    {
     "name": "stdout",
     "output_type": "stream",
     "text": [
      "Accuracy: 0.5263157894736842\n"
     ]
    }
   ],
   "source": [
    "#knn=7\n",
    "labels = np.random.choice([0, 1], size=(92,))\n",
    "X_train, X_test, y_train, y_test = train_test_split(final_sample, labels, test_size=0.2, random_state=42)\n",
    "knn = KNeighborsClassifier(n_neighbors=7)\n",
    "knn.fit(X_train, y_train)\n",
    "y_pred = knn.predict(X_test)\n",
    "accuracy = accuracy_score(y_test, y_pred)\n",
    "print(\"Accuracy:\", accuracy)"
   ]
  },
  {
   "cell_type": "code",
   "execution_count": null,
   "id": "89c44230",
   "metadata": {},
   "outputs": [],
   "source": []
  }
 ],
 "metadata": {
  "kernelspec": {
   "display_name": "Python 3 (ipykernel)",
   "language": "python",
   "name": "python3"
  },
  "language_info": {
   "codemirror_mode": {
    "name": "ipython",
    "version": 3
   },
   "file_extension": ".py",
   "mimetype": "text/x-python",
   "name": "python",
   "nbconvert_exporter": "python",
   "pygments_lexer": "ipython3",
   "version": "3.11.5"
  }
 },
 "nbformat": 4,
 "nbformat_minor": 5
}
